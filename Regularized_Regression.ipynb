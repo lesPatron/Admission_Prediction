{
 "cells": [
  {
   "cell_type": "code",
   "execution_count": 1,
   "metadata": {},
   "outputs": [],
   "source": [
    "from IPython.core.interactiveshell import InteractiveShell\n",
    "InteractiveShell.ast_node_interactivity = \"all\""
   ]
  },
  {
   "cell_type": "code",
   "execution_count": 2,
   "metadata": {},
   "outputs": [],
   "source": [
    "# Importing necessary libraries\n",
    "import pandas as pd\n",
    "import matplotlib.pyplot as plt\n",
    "import seaborn as sns\n",
    "import numpy as np\n",
    "\n",
    "# Importing the Ridge Regression\n",
    "from sklearn.linear_model import Ridge\n",
    "\n",
    "# Importing the libraries for Hyperparameter Tuning\n",
    "from sklearn.model_selection import RandomizedSearchCV #-----Randomized Search CV\n",
    "from sklearn.model_selection import GridSearchCV #----Grid Search CV\n",
    "\n",
    "# Importing R-Square for model evaluation\n",
    "from sklearn.metrics import r2_score"
   ]
  },
  {
   "cell_type": "code",
   "execution_count": 3,
   "metadata": {},
   "outputs": [
    {
     "data": {
      "text/html": [
       "<div>\n",
       "<style scoped>\n",
       "    .dataframe tbody tr th:only-of-type {\n",
       "        vertical-align: middle;\n",
       "    }\n",
       "\n",
       "    .dataframe tbody tr th {\n",
       "        vertical-align: top;\n",
       "    }\n",
       "\n",
       "    .dataframe thead th {\n",
       "        text-align: right;\n",
       "    }\n",
       "</style>\n",
       "<table border=\"1\" class=\"dataframe\">\n",
       "  <thead>\n",
       "    <tr style=\"text-align: right;\">\n",
       "      <th></th>\n",
       "      <th>GRE Score</th>\n",
       "      <th>TOEFL Score</th>\n",
       "      <th>University Rating</th>\n",
       "      <th>SOP</th>\n",
       "      <th>LOR</th>\n",
       "      <th>CGPA</th>\n",
       "      <th>Research</th>\n",
       "      <th>Chance of Admit</th>\n",
       "    </tr>\n",
       "  </thead>\n",
       "  <tbody>\n",
       "    <tr>\n",
       "      <th>0</th>\n",
       "      <td>337.000000</td>\n",
       "      <td>118.0</td>\n",
       "      <td>4.0</td>\n",
       "      <td>4.5</td>\n",
       "      <td>4.5</td>\n",
       "      <td>9.65</td>\n",
       "      <td>1</td>\n",
       "      <td>0.92</td>\n",
       "    </tr>\n",
       "    <tr>\n",
       "      <th>1</th>\n",
       "      <td>324.000000</td>\n",
       "      <td>107.0</td>\n",
       "      <td>4.0</td>\n",
       "      <td>4.0</td>\n",
       "      <td>4.5</td>\n",
       "      <td>8.87</td>\n",
       "      <td>1</td>\n",
       "      <td>0.76</td>\n",
       "    </tr>\n",
       "    <tr>\n",
       "      <th>2</th>\n",
       "      <td>316.558763</td>\n",
       "      <td>104.0</td>\n",
       "      <td>3.0</td>\n",
       "      <td>3.0</td>\n",
       "      <td>3.5</td>\n",
       "      <td>8.00</td>\n",
       "      <td>1</td>\n",
       "      <td>0.72</td>\n",
       "    </tr>\n",
       "    <tr>\n",
       "      <th>3</th>\n",
       "      <td>322.000000</td>\n",
       "      <td>110.0</td>\n",
       "      <td>3.0</td>\n",
       "      <td>3.5</td>\n",
       "      <td>2.5</td>\n",
       "      <td>8.67</td>\n",
       "      <td>1</td>\n",
       "      <td>0.80</td>\n",
       "    </tr>\n",
       "    <tr>\n",
       "      <th>4</th>\n",
       "      <td>314.000000</td>\n",
       "      <td>103.0</td>\n",
       "      <td>2.0</td>\n",
       "      <td>2.0</td>\n",
       "      <td>3.0</td>\n",
       "      <td>8.21</td>\n",
       "      <td>0</td>\n",
       "      <td>0.65</td>\n",
       "    </tr>\n",
       "  </tbody>\n",
       "</table>\n",
       "</div>"
      ],
      "text/plain": [
       "    GRE Score  TOEFL Score  University Rating  SOP  LOR  CGPA  Research  \\\n",
       "0  337.000000        118.0                4.0  4.5  4.5  9.65         1   \n",
       "1  324.000000        107.0                4.0  4.0  4.5  8.87         1   \n",
       "2  316.558763        104.0                3.0  3.0  3.5  8.00         1   \n",
       "3  322.000000        110.0                3.0  3.5  2.5  8.67         1   \n",
       "4  314.000000        103.0                2.0  2.0  3.0  8.21         0   \n",
       "\n",
       "   Chance of Admit  \n",
       "0             0.92  \n",
       "1             0.76  \n",
       "2             0.72  \n",
       "3             0.80  \n",
       "4             0.65  "
      ]
     },
     "execution_count": 3,
     "metadata": {},
     "output_type": "execute_result"
    }
   ],
   "source": [
    "# Loading the dataset\n",
    "admission_data = pd.read_csv(\"Admission_Preprocess.csv\")\n",
    "\n",
    "# Viewing first 5 rows\n",
    "admission_data.head()"
   ]
  },
  {
   "cell_type": "code",
   "execution_count": 4,
   "metadata": {},
   "outputs": [
    {
     "data": {
      "text/plain": [
       "(500, 8)"
      ]
     },
     "execution_count": 4,
     "metadata": {},
     "output_type": "execute_result"
    },
    {
     "name": "stdout",
     "output_type": "stream",
     "text": [
      "<class 'pandas.core.frame.DataFrame'>\n",
      "RangeIndex: 500 entries, 0 to 499\n",
      "Data columns (total 8 columns):\n",
      " #   Column             Non-Null Count  Dtype  \n",
      "---  ------             --------------  -----  \n",
      " 0   GRE Score          500 non-null    float64\n",
      " 1   TOEFL Score        500 non-null    float64\n",
      " 2   University Rating  500 non-null    float64\n",
      " 3   SOP                500 non-null    float64\n",
      " 4   LOR                500 non-null    float64\n",
      " 5   CGPA               500 non-null    float64\n",
      " 6   Research           500 non-null    int64  \n",
      " 7   Chance of Admit    500 non-null    float64\n",
      "dtypes: float64(7), int64(1)\n",
      "memory usage: 31.4 KB\n"
     ]
    }
   ],
   "source": [
    "# Finding shape of datset\n",
    "admission_data.shape\n",
    "\n",
    "# Finding basic information about dataset\n",
    "admission_data.info()"
   ]
  },
  {
   "cell_type": "code",
   "execution_count": 5,
   "metadata": {},
   "outputs": [
    {
     "data": {
      "text/plain": [
       "((500, 7), (500,))"
      ]
     },
     "execution_count": 5,
     "metadata": {},
     "output_type": "execute_result"
    }
   ],
   "source": [
    "# Separating the independent and dependent variables\n",
    "X_data = admission_data.iloc[:,:-1]\n",
    "y_data = admission_data[\"Chance of Admit\"]\n",
    "\n",
    "# Finding shape of independent and dependent variables\n",
    "X_data.shape, y_data.shape"
   ]
  },
  {
   "cell_type": "code",
   "execution_count": 6,
   "metadata": {},
   "outputs": [],
   "source": [
    "# Importing KFold cross-validation for splitting dataset \n",
    "from sklearn.model_selection import KFold\n",
    "\n",
    "# Creating object of KFold\n",
    "kf = KFold(n_splits = 5, shuffle = True, random_state = None)  #----Performing 5-Fold cross-validation"
   ]
  },
  {
   "cell_type": "code",
   "execution_count": 7,
   "metadata": {},
   "outputs": [
    {
     "data": {
      "text/plain": [
       "((400, 7), (100, 7))"
      ]
     },
     "execution_count": 7,
     "metadata": {},
     "output_type": "execute_result"
    },
    {
     "data": {
      "text/plain": [
       "((400,), (100,))"
      ]
     },
     "execution_count": 7,
     "metadata": {},
     "output_type": "execute_result"
    }
   ],
   "source": [
    "# Splittting dataset into training and testing part using cross-validation\n",
    "for train_index, test_index in kf.split(X_data):\n",
    "    X_train, X_test = X_data.iloc[train_index,:], X_data.iloc[test_index,:]\n",
    "    y_train, y_test = y_data.iloc[train_index], y_data.iloc[test_index]\n",
    "\n",
    "# Finding out the shape of training and testing set\n",
    "X_train.shape, X_test.shape\n",
    "y_train.shape, y_test.shape"
   ]
  },
  {
   "cell_type": "markdown",
   "metadata": {},
   "source": [
    "### Ridge Regression------Randomized SearchCV"
   ]
  },
  {
   "cell_type": "code",
   "execution_count": 9,
   "metadata": {},
   "outputs": [],
   "source": [
    "# Creating the object of Ridge Regression Class\n",
    "ridge_reg = Ridge(normalize = True)"
   ]
  },
  {
   "cell_type": "code",
   "execution_count": 12,
   "metadata": {},
   "outputs": [],
   "source": [
    "# Creating parameter grid for hyper-parameter optimization\n",
    "param_grid = {\"alpha\" : np.random.uniform(low=0, high=10, size=(50,)),\n",
    "             \"fit_intercept\" : ([True, False]),\n",
    "             \"solver\" : (['svd', 'cholesky', 'sparse_cg', 'sag'])}\n",
    "#----Setting different values for various parameters of Ridge Regression\n",
    "\n",
    "# Hyperparameter optimization using Randomized Search CV\n",
    "ridge_reg_randomcv = RandomizedSearchCV(estimator = ridge_reg, param_distributions = param_grid, n_iter = 100, n_jobs = -1)\n",
    "#----Parameter grid being passed for performing hyperparameter optimization"
   ]
  },
  {
   "cell_type": "code",
   "execution_count": 13,
   "metadata": {},
   "outputs": [
    {
     "data": {
      "text/plain": [
       "RandomizedSearchCV(estimator=Ridge(normalize=True), n_iter=100, n_jobs=-1,\n",
       "                   param_distributions={'alpha': array([5.06215257, 8.01704697, 4.97613338, 0.49751886, 5.93324007,\n",
       "       3.54894159, 9.44854443, 3.52432356, 9.13832686, 9.53842016,\n",
       "       5.41132022, 8.66359693, 9.61808928, 8.01552353, 4.35620065,\n",
       "       0.22828793, 0.87698539, 0.59854605, 7.21001656, 9.8821913 ,\n",
       "       9.38855262, 7.16150188, 6...,\n",
       "       9.66310343, 1.32719773, 1.15445875, 7.5224515 , 7.71321082,\n",
       "       2.48405826, 2.38548994, 4.71283995, 1.97399403, 9.32472471,\n",
       "       0.15107601, 9.30995377, 5.04468826, 3.31686856, 4.30158128,\n",
       "       7.05883564, 8.99885357, 2.28424602, 5.0530496 , 2.59553717,\n",
       "       1.32083642, 7.53453661, 8.394424  , 2.58831009, 5.57012035]),\n",
       "                                        'fit_intercept': [True, False],\n",
       "                                        'solver': ['svd', 'cholesky',\n",
       "                                                   'sparse_cg', 'sag']})"
      ]
     },
     "execution_count": 13,
     "metadata": {},
     "output_type": "execute_result"
    }
   ],
   "source": [
    "# Fitting the model\n",
    "ridge_reg_randomcv.fit(X_train,y_train)"
   ]
  },
  {
   "cell_type": "code",
   "execution_count": 14,
   "metadata": {},
   "outputs": [
    {
     "data": {
      "text/plain": [
       "{'solver': 'svd', 'fit_intercept': True, 'alpha': 0.49751886317080385}"
      ]
     },
     "execution_count": 14,
     "metadata": {},
     "output_type": "execute_result"
    }
   ],
   "source": [
    "# Finding the best parameter after performing hyperparameter tuning\n",
    "ridge_reg_randomcv.best_params_"
   ]
  },
  {
   "cell_type": "code",
   "execution_count": 15,
   "metadata": {},
   "outputs": [
    {
     "data": {
      "text/plain": [
       "Ridge(alpha=0.49751886317080385, normalize=True, solver='svd')"
      ]
     },
     "execution_count": 15,
     "metadata": {},
     "output_type": "execute_result"
    }
   ],
   "source": [
    "# Passing the best parameter to Ridge Regression for model building\n",
    "best_param_ridge_reg = Ridge(alpha =  0.49751886317080385, normalize = True, solver = \"svd\", fit_intercept = True)\n",
    "\n",
    "# Fitting the model after hyperparameter optimization\n",
    "best_param_ridge_reg.fit(X_train, y_train)"
   ]
  },
  {
   "cell_type": "code",
   "execution_count": 16,
   "metadata": {},
   "outputs": [
    {
     "name": "stdout",
     "output_type": "stream",
     "text": [
      "Slope: 0.002\n",
      "Intercept: -0.983\n"
     ]
    }
   ],
   "source": [
    "# Finding out the slope and intercept terms after fiting the model\n",
    "print(\"Slope: %.3f\" %best_param_ridge_reg.coef_[0]) #----Slope\n",
    "print(\"Intercept: %.3f\" %best_param_ridge_reg.intercept_) #----Intercept"
   ]
  },
  {
   "cell_type": "code",
   "execution_count": 17,
   "metadata": {},
   "outputs": [],
   "source": [
    "# Prediction\n",
    "y_pred = best_param_ridge_reg.predict(X_test)#----Prediction on testing set\n",
    "y_train_pred = best_param_ridge_reg.predict(X_train)#----Prediction on training set"
   ]
  },
  {
   "cell_type": "code",
   "execution_count": 28,
   "metadata": {},
   "outputs": [
    {
     "data": {
      "text/html": [
       "<div>\n",
       "<style scoped>\n",
       "    .dataframe tbody tr th:only-of-type {\n",
       "        vertical-align: middle;\n",
       "    }\n",
       "\n",
       "    .dataframe tbody tr th {\n",
       "        vertical-align: top;\n",
       "    }\n",
       "\n",
       "    .dataframe thead th {\n",
       "        text-align: right;\n",
       "    }\n",
       "</style>\n",
       "<table border=\"1\" class=\"dataframe\">\n",
       "  <thead>\n",
       "    <tr style=\"text-align: right;\">\n",
       "      <th></th>\n",
       "      <th>Actual</th>\n",
       "      <th>Predicted</th>\n",
       "    </tr>\n",
       "  </thead>\n",
       "  <tbody>\n",
       "    <tr>\n",
       "      <th>7</th>\n",
       "      <td>0.68</td>\n",
       "      <td>0.616971</td>\n",
       "    </tr>\n",
       "    <tr>\n",
       "      <th>11</th>\n",
       "      <td>0.84</td>\n",
       "      <td>0.829734</td>\n",
       "    </tr>\n",
       "    <tr>\n",
       "      <th>16</th>\n",
       "      <td>0.66</td>\n",
       "      <td>0.708411</td>\n",
       "    </tr>\n",
       "    <tr>\n",
       "      <th>17</th>\n",
       "      <td>0.65</td>\n",
       "      <td>0.696455</td>\n",
       "    </tr>\n",
       "    <tr>\n",
       "      <th>33</th>\n",
       "      <td>0.90</td>\n",
       "      <td>0.905143</td>\n",
       "    </tr>\n",
       "  </tbody>\n",
       "</table>\n",
       "</div>"
      ],
      "text/plain": [
       "    Actual  Predicted\n",
       "7     0.68   0.616971\n",
       "11    0.84   0.829734\n",
       "16    0.66   0.708411\n",
       "17    0.65   0.696455\n",
       "33    0.90   0.905143"
      ]
     },
     "execution_count": 28,
     "metadata": {},
     "output_type": "execute_result"
    }
   ],
   "source": [
    "# Creating a new dataframe having actual and predicted values\n",
    "comp_df = pd.DataFrame({\"Actual\" : y_test, \"Predicted\" : y_pred})\n",
    "comp_df.head()\n",
    "#---Used for comparision purpose"
   ]
  },
  {
   "cell_type": "code",
   "execution_count": 29,
   "metadata": {},
   "outputs": [
    {
     "data": {
      "text/plain": [
       "<AxesSubplot:xlabel='Chance of Admit'>"
      ]
     },
     "execution_count": 29,
     "metadata": {},
     "output_type": "execute_result"
    },
    {
     "data": {
      "image/png": "[encoded data removed]",
      "text/plain": [
       "<Figure size 432x288 with 1 Axes>"
      ]
     },
     "metadata": {
      "needs_background": "light"
     },
     "output_type": "display_data"
    }
   ],
   "source": [
    "# Visualising the comparision between Actual and Predicted values\n",
    "ax_1 = sns.distplot(admission_data[\"Chance of Admit\"], hist = False, color = \"r\", label = \"Actual_Value\")\n",
    "sns.distplot(y_pred, hist = False, color = \"b\", label = \"Fitted_Value\", ax = ax_1)"
   ]
  },
  {
   "cell_type": "code",
   "execution_count": 32,
   "metadata": {},
   "outputs": [],
   "source": [
    "# Function for calculating Adjusted R-square\n",
    "def adj_r2(x,y):\n",
    "    r2 = best_param_ridge_reg.score(x,y)\n",
    "    n = x.shape[0]\n",
    "    p = x.shape[1]\n",
    "    adjusted_r2 = 1 - (1 - r2) * (n - 1) / (n - p - 1)\n",
    "    return adjusted_r2"
   ]
  },
  {
   "cell_type": "code",
   "execution_count": 33,
   "metadata": {},
   "outputs": [
    {
     "name": "stdout",
     "output_type": "stream",
     "text": [
      "R^2 train: 0.799, test: 0.792\n",
      "Adjusted R^2 train: 0.795, test: 0.776\n"
     ]
    }
   ],
   "source": [
    "# Model Evaluation using R-square \n",
    "print('R^2 train: %.3f, test: %.3f' %(r2_score(y_train, y_train_pred),r2_score(y_test, y_pred)))\n",
    "\n",
    "# Model Evaluation using Adjusted R-square\n",
    "print('Adjusted R^2 train: %.3f, test: %.3f' %(adj_r2(X_train,y_train),adj_r2(X_test,y_test)))"
   ]
  },
  {
   "cell_type": "markdown",
   "metadata": {},
   "source": [
    "### Ridge Regression------Grid SearchCV"
   ]
  },
  {
   "cell_type": "code",
   "execution_count": 21,
   "metadata": {},
   "outputs": [],
   "source": [
    "# Hyperparameter optimization using Grid Search CV\n",
    "ridge_reg_gridcv = GridSearchCV(estimator = ridge_reg, param_grid = param_grid, n_jobs = -1)\n",
    "#----Parameter grid being passed for performing hyperparameter optimization"
   ]
  },
  {
   "cell_type": "code",
   "execution_count": 22,
   "metadata": {},
   "outputs": [
    {
     "data": {
      "text/plain": [
       "GridSearchCV(estimator=Ridge(normalize=True), n_jobs=-1,\n",
       "             param_grid={'alpha': array([5.06215257, 8.01704697, 4.97613338, 0.49751886, 5.93324007,\n",
       "       3.54894159, 9.44854443, 3.52432356, 9.13832686, 9.53842016,\n",
       "       5.41132022, 8.66359693, 9.61808928, 8.01552353, 4.35620065,\n",
       "       0.22828793, 0.87698539, 0.59854605, 7.21001656, 9.8821913 ,\n",
       "       9.38855262, 7.16150188, 6.72597018, 7.00314946, 8.731...,\n",
       "       9.66310343, 1.32719773, 1.15445875, 7.5224515 , 7.71321082,\n",
       "       2.48405826, 2.38548994, 4.71283995, 1.97399403, 9.32472471,\n",
       "       0.15107601, 9.30995377, 5.04468826, 3.31686856, 4.30158128,\n",
       "       7.05883564, 8.99885357, 2.28424602, 5.0530496 , 2.59553717,\n",
       "       1.32083642, 7.53453661, 8.394424  , 2.58831009, 5.57012035]),\n",
       "                         'fit_intercept': [True, False],\n",
       "                         'solver': ['svd', 'cholesky', 'sparse_cg', 'sag']})"
      ]
     },
     "execution_count": 22,
     "metadata": {},
     "output_type": "execute_result"
    }
   ],
   "source": [
    "# Fitting the model\n",
    "ridge_reg_gridcv.fit(X_train, y_train)"
   ]
  },
  {
   "cell_type": "code",
   "execution_count": 23,
   "metadata": {},
   "outputs": [
    {
     "data": {
      "text/plain": [
       "{'alpha': 0.15107600834871504, 'fit_intercept': True, 'solver': 'svd'}"
      ]
     },
     "execution_count": 23,
     "metadata": {},
     "output_type": "execute_result"
    }
   ],
   "source": [
    "# Finding the best parameter after performing hyperparameter tuning\n",
    "ridge_reg_gridcv.best_params_"
   ]
  },
  {
   "cell_type": "code",
   "execution_count": 24,
   "metadata": {},
   "outputs": [
    {
     "data": {
      "text/plain": [
       "Ridge(alpha=0.15107600834871504, normalize=True, solver='svd')"
      ]
     },
     "execution_count": 24,
     "metadata": {},
     "output_type": "execute_result"
    }
   ],
   "source": [
    "# Passing the best parameter to Ridge Regression for model building\n",
    "best_param_ridge_reg_gridcv = Ridge(alpha = 0.15107600834871504, normalize = True, solver = \"svd\", fit_intercept = True)\n",
    "\n",
    "# Fitting the model after hyperparameter optimization\n",
    "best_param_ridge_reg_gridcv.fit(X_train, y_train)"
   ]
  },
  {
   "cell_type": "code",
   "execution_count": 25,
   "metadata": {},
   "outputs": [
    {
     "name": "stdout",
     "output_type": "stream",
     "text": [
      "Slope: 0.002\n",
      "Intercept: -1.168\n"
     ]
    }
   ],
   "source": [
    "# Finding out the slope and intercept terms after fiting the model\n",
    "print(\"Slope: %.3f\" %best_param_ridge_reg_gridcv.coef_[0]) #----Slope\n",
    "print(\"Intercept: %.3f\" %best_param_ridge_reg_gridcv.intercept_) #----Intercept"
   ]
  },
  {
   "cell_type": "code",
   "execution_count": 26,
   "metadata": {},
   "outputs": [],
   "source": [
    "# Prediction\n",
    "y_pred_gridcv = best_param_ridge_reg_gridcv.predict(X_test)#----Prediction on testing set\n",
    "y_train_pred_gridcv = best_param_ridge_reg_gridcv.predict(X_train)#----Prediction on training set"
   ]
  },
  {
   "cell_type": "code",
   "execution_count": 34,
   "metadata": {},
   "outputs": [
    {
     "data": {
      "text/html": [
       "<div>\n",
       "<style scoped>\n",
       "    .dataframe tbody tr th:only-of-type {\n",
       "        vertical-align: middle;\n",
       "    }\n",
       "\n",
       "    .dataframe tbody tr th {\n",
       "        vertical-align: top;\n",
       "    }\n",
       "\n",
       "    .dataframe thead th {\n",
       "        text-align: right;\n",
       "    }\n",
       "</style>\n",
       "<table border=\"1\" class=\"dataframe\">\n",
       "  <thead>\n",
       "    <tr style=\"text-align: right;\">\n",
       "      <th></th>\n",
       "      <th>Actual</th>\n",
       "      <th>Predicted</th>\n",
       "    </tr>\n",
       "  </thead>\n",
       "  <tbody>\n",
       "    <tr>\n",
       "      <th>7</th>\n",
       "      <td>0.68</td>\n",
       "      <td>0.606555</td>\n",
       "    </tr>\n",
       "    <tr>\n",
       "      <th>11</th>\n",
       "      <td>0.84</td>\n",
       "      <td>0.837233</td>\n",
       "    </tr>\n",
       "    <tr>\n",
       "      <th>16</th>\n",
       "      <td>0.66</td>\n",
       "      <td>0.708501</td>\n",
       "    </tr>\n",
       "    <tr>\n",
       "      <th>17</th>\n",
       "      <td>0.65</td>\n",
       "      <td>0.680847</td>\n",
       "    </tr>\n",
       "    <tr>\n",
       "      <th>33</th>\n",
       "      <td>0.90</td>\n",
       "      <td>0.924245</td>\n",
       "    </tr>\n",
       "  </tbody>\n",
       "</table>\n",
       "</div>"
      ],
      "text/plain": [
       "    Actual  Predicted\n",
       "7     0.68   0.606555\n",
       "11    0.84   0.837233\n",
       "16    0.66   0.708501\n",
       "17    0.65   0.680847\n",
       "33    0.90   0.924245"
      ]
     },
     "execution_count": 34,
     "metadata": {},
     "output_type": "execute_result"
    }
   ],
   "source": [
    "# Creating a new dataframe having actual and predicted values\n",
    "comp_df_gridcv = pd.DataFrame({\"Actual\" : y_test, \"Predicted\" : y_pred_gridcv})\n",
    "comp_df_gridcv.head()\n",
    "#---Used for comparision purpose"
   ]
  },
  {
   "cell_type": "code",
   "execution_count": 35,
   "metadata": {},
   "outputs": [
    {
     "data": {
      "text/plain": [
       "<AxesSubplot:xlabel='Chance of Admit'>"
      ]
     },
     "execution_count": 35,
     "metadata": {},
     "output_type": "execute_result"
    },
    {
     "data": {
      "image/png": "[encoded data removed]",
      "text/plain": [
       "<Figure size 432x288 with 1 Axes>"
      ]
     },
     "metadata": {
      "needs_background": "light"
     },
     "output_type": "display_data"
    }
   ],
   "source": [
    "# Visualising the comparision between Actual and Predicted values\n",
    "ax_2 = sns.distplot(admission_data[\"Chance of Admit\"], hist = False, color = \"r\", label = \"Actual_Value\")\n",
    "sns.distplot(y_pred_gridcv, hist = False, color = \"b\", label = \"Fitted_Value\", ax = ax_2)"
   ]
  },
  {
   "cell_type": "code",
   "execution_count": 36,
   "metadata": {},
   "outputs": [],
   "source": [
    "# Function for calculating Adjusted R-square\n",
    "def adj_r2(x,y):\n",
    "    r2 = best_param_ridge_reg_gridcv.score(x,y)\n",
    "    n = x.shape[0]\n",
    "    p = x.shape[1]\n",
    "    adjusted_r2 = 1 - (1 - r2) * (n - 1) / (n - p - 1)\n",
    "    return adjusted_r2"
   ]
  },
  {
   "cell_type": "code",
   "execution_count": 38,
   "metadata": {},
   "outputs": [
    {
     "name": "stdout",
     "output_type": "stream",
     "text": [
      "R^2 train: 0.815, test: 0.805\n",
      "Adjusted R^2 train: 0.812, test: 0.791\n"
     ]
    }
   ],
   "source": [
    "# Model Evaluation using R-square \n",
    "print('R^2 train: %.3f, test: %.3f' %(r2_score(y_train, y_train_pred_gridcv),r2_score(y_test, y_pred_gridcv)))\n",
    "\n",
    "# Model Evaluation using Adjusted R-square\n",
    "print('Adjusted R^2 train: %.3f, test: %.3f' %(adj_r2(X_train,y_train),adj_r2(X_test,y_test)))"
   ]
  }
 ],
 "metadata": {
  "kernelspec": {
   "display_name": "Python 3",
   "language": "python",
   "name": "python3"
  },
  "language_info": {
   "codemirror_mode": {
    "name": "ipython",
    "version": 3
   },
   "file_extension": ".py",
   "mimetype": "text/x-python",
   "name": "python",
   "nbconvert_exporter": "python",
   "pygments_lexer": "ipython3",
   "version": "3.6.5"
  }
 },
 "nbformat": 4,
 "nbformat_minor": 4
}
